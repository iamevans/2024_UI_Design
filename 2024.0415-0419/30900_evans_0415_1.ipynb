{
 "cells": [
  {
   "cell_type": "markdown",
   "id": "6e79c540-f836-447d-b9b8-6b6e2d42bcda",
   "metadata": {},
   "source": [
    "## 30900_evans_0415_1"
   ]
  },
  {
   "cell_type": "code",
   "execution_count": 2,
   "id": "4f375cf2-7e11-47f4-aeca-82c1fd9b14b5",
   "metadata": {},
   "outputs": [
    {
     "name": "stdout",
     "output_type": "stream",
     "text": [
      "6275\n"
     ]
    }
   ],
   "source": [
    "## 반복문을 이용하여 101부터 150까지 합을 구하는 프로그램 작성\n",
    "# 결과용 변수 만들고 초기화\n",
    "result  = 0\n",
    "# 반복문 for\n",
    "\n",
    "for i in range(101,151) :\n",
    "    result += i\n",
    "print(result)"
   ]
  },
  {
   "cell_type": "code",
   "execution_count": 5,
   "id": "1fae04f9-c496-4c4f-afeb-fa232d0049e1",
   "metadata": {},
   "outputs": [
    {
     "name": "stdout",
     "output_type": "stream",
     "text": [
      "362880\n"
     ]
    }
   ],
   "source": [
    "# 1부터 10까지 곱하는 프로그램 작성\n",
    "\n",
    "# 결과용 변수 만들고 초기화\n",
    "result = 1\n",
    "for i in range(1,10) :\n",
    "    result *= i\n",
    "print(result)"
   ]
  },
  {
   "attachments": {
    "d076c87a-5e20-4939-a472-24927f8054b1.png": {
     "image/png": "[encoded data removed]"
    }
   },
   "cell_type": "markdown",
   "id": "e6f624b9-c0c3-40e2-9a7f-fe0671c0936c",
   "metadata": {},
   "source": [
    "![image.png](attachment:d076c87a-5e20-4939-a472-24927f8054b1.png)"
   ]
  },
  {
   "cell_type": "code",
   "execution_count": 9,
   "id": "cbe372bc-98f7-4316-8ff9-4834983b2d43",
   "metadata": {},
   "outputs": [
    {
     "name": "stdin",
     "output_type": "stream",
     "text": [
      "몇 단을 외울까요?  13\n"
     ]
    },
    {
     "name": "stdout",
     "output_type": "stream",
     "text": [
      "13 X 1 = 13\n",
      "13 X 2 = 26\n",
      "13 X 3 = 39\n",
      "13 X 4 = 52\n",
      "13 X 5 = 65\n",
      "13 X 6 = 78\n",
      "13 X 7 = 91\n",
      "13 X 8 = 104\n",
      "13 X 9 = 117\n"
     ]
    }
   ],
   "source": [
    "# 구구단 출력하기\n",
    "# 입력값 설계\n",
    "num = int(input('몇 단을 외울까요? '))\n",
    "# 출력값 설계\n",
    "for i in range(1, 10):\n",
    "    print(f'{num} X {i} = {num*i}')"
   ]
  },
  {
   "cell_type": "code",
   "execution_count": 13,
   "id": "e1c14042-836e-48e2-a6c0-31d5f3612dda",
   "metadata": {},
   "outputs": [
    {
     "name": "stdout",
     "output_type": "stream",
     "text": [
      "0.4361567797245314\n"
     ]
    }
   ],
   "source": [
    "# random 임의의 숫자\n",
    "\n",
    "# 라이브러리 libary 불러오기\n",
    "import random\n",
    "\n",
    "print(random.random())"
   ]
  },
  {
   "cell_type": "code",
   "execution_count": 23,
   "id": "48da94d5-11cc-4b96-9349-e9c9694d619f",
   "metadata": {},
   "outputs": [
    {
     "name": "stdout",
     "output_type": "stream",
     "text": [
      "4\n"
     ]
    }
   ],
   "source": [
    "# 라이브러리 libary 불러오기\n",
    "import random\n",
    "# 랜덤 범위를 지정한다. 정수를 가져오기\n",
    "print(random.randint(1, 10))"
   ]
  },
  {
   "cell_type": "code",
   "execution_count": 24,
   "id": "e1079fed-8a3b-42bf-99d5-6393e7e6a9dc",
   "metadata": {},
   "outputs": [
    {
     "name": "stdout",
     "output_type": "stream",
     "text": [
      "5\n",
      "7\n",
      "0\n",
      "1\n",
      "0\n",
      "8\n",
      "3\n",
      "6\n",
      "5\n",
      "2\n"
     ]
    }
   ],
   "source": [
    "import random\n",
    "\n",
    "for i in range(10) :\n",
    "    print(random.randint(0,10))"
   ]
  },
  {
   "cell_type": "code",
   "execution_count": 28,
   "id": "e7c53a7c-3e92-4516-8b61-0b69ab3e7fcd",
   "metadata": {},
   "outputs": [
    {
     "name": "stdout",
     "output_type": "stream",
     "text": [
      "구구단 외자~~구구단 외자~~\n",
      "8 X 6 은? 48\n",
      "2 X 7 은? 14\n",
      "6 X 9 은? 54\n",
      "5 X 3 은? 15\n",
      "3 X 6 은? 18\n",
      "5 X 2 은? 10\n",
      "6 X 6 은? 36\n",
      "4 X 3 은? 12\n",
      "5 X 5 은? 25\n",
      "5 X 9 은? 45\n"
     ]
    }
   ],
   "source": [
    "# 구구단 외기 게임 1\n",
    "import random\n",
    "\n",
    "print('구구단 외자~~'*2)\n",
    "\n",
    "for i in range(10) :\n",
    "    a = random.randint(2,9)\n",
    "    b = random.randint(1,9)\n",
    "    print(f'{a} X {b} 은? {a*b}')\n",
    "    "
   ]
  },
  {
   "cell_type": "code",
   "execution_count": 30,
   "id": "263d0a5d-4c96-454d-8457-58309b59be0d",
   "metadata": {},
   "outputs": [
    {
     "name": "stdout",
     "output_type": "stream",
     "text": [
      "구구단 외자~~구구단 외자~~\n"
     ]
    },
    {
     "name": "stdin",
     "output_type": "stream",
     "text": [
      "5 X 5?  25\n",
      "7 X 6?  42\n",
      "3 X 8?  24\n",
      "2 X 6?  12\n",
      "7 X 6?  30\n",
      "5 X 9?  45\n",
      "2 X 2?  4\n",
      "3 X 7?  21\n",
      "8 X 3?  24\n",
      "9 X 2?  12\n"
     ]
    }
   ],
   "source": [
    "# 구구단 외기 게임 2 - 정답을 입력받어 보기\n",
    "import random\n",
    "\n",
    "print('구구단 외자~~'*2)\n",
    "\n",
    "for i in range(10) :\n",
    "    a = random.randint(2,9)\n",
    "    b = random.randint(1,9)\n",
    "    question = str(a) + ' X ' + str(b) + ' ? '\n",
    "    input(question)"
   ]
  },
  {
   "cell_type": "code",
   "execution_count": null,
   "id": "794095d7-3ff4-483b-8fef-f52973eacd3f",
   "metadata": {},
   "outputs": [
    {
     "name": "stdout",
     "output_type": "stream",
     "text": [
      "구구단 외자~~구구단 외자~~\n"
     ]
    }
   ],
   "source": [
    "# 구구단 외기 게임 3 - 정답입력이 맞다 틀리다를 구분\n",
    "import random\n",
    "\n",
    "print('구구단 외자~~'*2)\n",
    "\n",
    "for i in range(10) :\n",
    "    a = random.randint(2,9)\n",
    "    b = random.randint(1,9)\n",
    "    question = input(f'{a} X {b} 은 ?')\n",
    "    answer = int(question)\n",
    "    if answer != a*b :\n",
    "        print('틀렸습니다')"
   ]
  },
  {
   "cell_type": "code",
   "execution_count": null,
   "id": "294353b3-ff59-4e08-819b-231ccc1e3d3f",
   "metadata": {},
   "outputs": [],
   "source": []
  }
 ],
 "metadata": {
  "kernelspec": {
   "display_name": "Python 3 (ipykernel)",
   "language": "python",
   "name": "python3"
  },
  "language_info": {
   "codemirror_mode": {
    "name": "ipython",
    "version": 3
   },
   "file_extension": ".py",
   "mimetype": "text/x-python",
   "name": "python",
   "nbconvert_exporter": "python",
   "pygments_lexer": "ipython3",
   "version": "3.9.7"
  }
 },
 "nbformat": 4,
 "nbformat_minor": 5
}
